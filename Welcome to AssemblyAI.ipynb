{
 "cells": [
  {
   "cell_type": "code",
   "execution_count": 2,
   "id": "b38c7710",
   "metadata": {},
   "outputs": [
    {
     "name": "stdout",
     "output_type": "stream",
     "text": [
      "I'm David Curley at the Smithsonian Aaron Space Museum, where we are marking 50 years since man landed and walked on the moon in a lander just like this one. We are going to show you some of the actual ABC News coverage from 50 years ago during that eight day mission of this remarkable achievement, apollo Eleven s lander, the Eagle, would be the first man craft to land on the moon. For training, NASA came with an unusual contraption. Neil Armstrong actually had to eject from it once, and then he had a couple of successful flights. ABC News Anchor at the time, 50 years ago, frank Reynolds with a look at that unusual trainer. Apollo Eleven commander Neil Armstrong is at the controls of a lunar landing training vehicle, testing the reaction control jets, these thrusters stabilize the Lem during landing and takeoff. The Ll T V is designed to simulate the behavior of the Lem as it lands in the moon's gravity. Lunar gravity is one 6th that of the Earth's. Neil Armstrong flew one of these vehicles on May 6, 1968, and that flight was nearly his last. Later reports by a NASA investigating team said the crash, which we'll see soon, was caused by a loss of fuel pressure, compounded by a warning light that failed to work. Armstrong's coolness under pressure saved himself and possibly months of delay for the Apollo program. Later that same year, 1968, another test pilot, Joseph Allegranti, also escaped from an Ll TV just before it crashed. The training vehicle then underwent several design modifications and improvements. Engineers had to increase the vehicle's rocket power to help stabilize the craft. That made the LLTV less of a moon gravity simulator, but it improved pilot safety. On June 16, 1969, neil Armstrong flew the vehicle, sometimes called the Flying Bedstead, to several perfect landings. Question was, how does the machine fly? And the answer is that we're very pleased with the way it flies. It's a significant improvement over the LLRV, which we were flying here a year ago. And I think it does an excellent job of actually capturing the handling characteristics of the lunar module in landing maneuver. It's really a great deal different than any other kind of aircraft that I've ever flown. It's the the simulation of lunar gravity has some aspects that make this type of flight sufficiently different from anything else we've ever done to make this vehicle very worthwhile. And I'm very pleased that I had the opportunity to get some flights in it here. Just before the Apollo Eleven flight.\n"
     ]
    }
   ],
   "source": [
    "# `pip3 install assemblyai` (macOS)\n",
    "# `pip install assemblyai` (Windows)\n",
    "\n",
    "import assemblyai as aai\n",
    "\n",
    "aai.settings.api_key = \"\"\n",
    "transcriber = aai.Transcriber()\n",
    "\n",
    "transcript = transcriber.transcribe(\"https://storage.googleapis.com/aai-web-samples/news.mp4\")\n",
    "# transcript = transcriber.transcribe(\"./my-local-audio-file.wav\")\n",
    "\n",
    "print(transcript.text)"
   ]
  }
 ],
 "metadata": {
  "kernelspec": {
   "display_name": "Python 3 (ipykernel)",
   "language": "python",
   "name": "python3"
  },
  "language_info": {
   "codemirror_mode": {
    "name": "ipython",
    "version": 3
   },
   "file_extension": ".py",
   "mimetype": "text/x-python",
   "name": "python",
   "nbconvert_exporter": "python",
   "pygments_lexer": "ipython3",
   "version": "3.9.15"
  }
 },
 "nbformat": 4,
 "nbformat_minor": 5
}
